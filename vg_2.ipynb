{
 "cells": [
  {
   "cell_type": "code",
   "execution_count": 5,
   "id": "e02fe31d-9552-49fa-932e-f9640b72db1c",
   "metadata": {},
   "outputs": [],
   "source": [
    "import random"
   ]
  },
  {
   "cell_type": "code",
   "execution_count": 170,
   "id": "c3cec19d-0820-486d-9006-7309cd97f51e",
   "metadata": {},
   "outputs": [],
   "source": [
    "# makeing compuyter to understnad what choices we have for game actions avaible.\n",
    "# Coninue_game we are telling True that we want the loop\n",
    "game_actions = [\"Rock\", \"Paper\", \"Scissors\"]\n",
    "continue_game = True"
   ]
  },
  {
   "cell_type": "code",
   "execution_count": 172,
   "id": "d343ee55-95f8-4c5f-8719-34bef55e6eda",
   "metadata": {},
   "outputs": [],
   "source": [
    "# Rules for the computer to understand the game we are trying to create.\n",
    "def determind_winner (computer_player, sinan_player):\n",
    "        if computer_player == sinan_player:\n",
    "            return \"its a tie\"\n",
    "        elif computer_player == \"Rock\" and sinan_player == \"Paper\":\n",
    "            return \"Sinan Vinner\"\n",
    "        elif computer_player == \"Paper\" and sinan_player == \"Scissors\":\n",
    "            return \"Sinan Vinner\"\n",
    "        elif computer_player == \"Scissors\" and sinan_player == \"Rock\":\n",
    "            return \"Sinan Vinner\"\n",
    "        elif sinan_player == \"Rock\" and computer_player == \"Paper\":\n",
    "            return \"Computer Vinner\"\n",
    "        elif sinan_player == \"Paper\" and computer_player == \"Scissors\":\n",
    "            return \"Computer Vinner\"\n",
    "        elif sinan_player == \"Scissors\" and computer_player == \"Rock\":\n",
    "            return \"Computer Vinner\""
   ]
  },
  {
   "cell_type": "code",
   "execution_count": null,
   "id": "30927ae8-955e-4ad9-8345-1ee2c50f0592",
   "metadata": {},
   "outputs": [
    {
     "name": "stdout",
     "output_type": "stream",
     "text": [
      "0-Rock, 1-Scissors, 2-Paper\n"
     ]
    }
   ],
   "source": [
    "while continue_game:\n",
    "    computer_choice = random.choice(game_actions)\n",
    "    print(\"0-Rock, 1-Scissors, 2-Paper\")\n",
    "    player_choice = int(input(f\"Enter your Choise\"))\n",
    "    \n",
    "    if player_choice in [0,1,2]:\n",
    "        player_choice = game_actions[int(player_choice)]\n",
    "        print (f\"Datorn valde: {computer_choice}\")\n",
    "        print (f\"Sinan valde: {player_choice}\")\n",
    "        result = determind_winner (computer_choice, player_choice)\n",
    "        print(result)\n",
    "        play_again = input(\"Want to play again Sir/Madam? (yes/no: \").lower()\n",
    "             \n",
    "        if play_again != \"yes\":  # If the player is not selecting yes then auto break the game\n",
    "            break\n",
    "            continue_game = true  # Datan vet redan continue_game = True ifall vi väljer no så avslutas den, vi behöver inte skriva else print blabla\n",
    "            print(\"Thaknks for playing\")\n",
    "            break\n",
    "    else:\n",
    "        print(\"Wrong number, Choose between 0-3 or Rock, Paper, Scissors\")"
   ]
  }
 ],
 "metadata": {
  "kernelspec": {
   "display_name": "Python 3 (ipykernel)",
   "language": "python",
   "name": "python3"
  },
  "language_info": {
   "codemirror_mode": {
    "name": "ipython",
    "version": 3
   },
   "file_extension": ".py",
   "mimetype": "text/x-python",
   "name": "python",
   "nbconvert_exporter": "python",
   "pygments_lexer": "ipython3",
   "version": "3.12.4"
  }
 },
 "nbformat": 4,
 "nbformat_minor": 5
}
